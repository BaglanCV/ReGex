{
 "cells": [
  {
   "cell_type": "markdown",
   "metadata": {
    "id": "uiL2nmB1WAQd"
   },
   "source": [
    "## <font color='#fd79a8'>  ReGex <br> Compare Regex re.split() to <br> Python's split() without the re library<font/>"
   ]
  },
  {
   "cell_type": "code",
   "execution_count": 2,
   "metadata": {
    "id": "FqPOd3QgDMHK"
   },
   "outputs": [],
   "source": [
    "sentence = \"Tokenizing separates text into units such as sentences or words. It gives structure to previously unstructured text.It's very useful \""
   ]
  },
  {
   "cell_type": "code",
   "execution_count": 3,
   "metadata": {
    "id": "K04Cup4c-xTG"
   },
   "outputs": [],
   "source": [
    "result = sentence.split()"
   ]
  },
  {
   "cell_type": "code",
   "execution_count": 4,
   "metadata": {
    "id": "RPrI_k3v-zTL"
   },
   "outputs": [
    {
     "data": {
      "text/plain": [
       "['Tokenizing',\n",
       " 'separates',\n",
       " 'text',\n",
       " 'into',\n",
       " 'units',\n",
       " 'such',\n",
       " 'as',\n",
       " 'sentences',\n",
       " 'or',\n",
       " 'words.',\n",
       " 'It',\n",
       " 'gives',\n",
       " 'structure',\n",
       " 'to',\n",
       " 'previously',\n",
       " 'unstructured',\n",
       " \"text.It's\",\n",
       " 'very',\n",
       " 'useful']"
      ]
     },
     "execution_count": 4,
     "metadata": {},
     "output_type": "execute_result"
    }
   ],
   "source": [
    "result"
   ]
  },
  {
   "cell_type": "code",
   "execution_count": 5,
   "metadata": {
    "id": "okoqoDT-Ehet"
   },
   "outputs": [],
   "source": [
    "sentence2 = \"He has a Ph.D. He's fast.The boy ran up the hill and he can't come back down!\""
   ]
  },
  {
   "cell_type": "code",
   "execution_count": 6,
   "metadata": {
    "id": "nON6TjVg_Lh2"
   },
   "outputs": [
    {
     "data": {
      "text/plain": [
       "['He has a Ph.D',\n",
       " \"He's fast.The boy ran up the hill and he can't come back down!\"]"
      ]
     },
     "execution_count": 6,
     "metadata": {},
     "output_type": "execute_result"
    }
   ],
   "source": [
    "result = sentence2.split('. ')\n",
    "result"
   ]
  },
  {
   "cell_type": "markdown",
   "metadata": {
    "id": "ZQlt1TFkEvjp"
   },
   "source": [
    "<font color= #fd79a8 > Python’s split() method falls short as only one separator can be used at a time. Another thing to note – in word tokenization, split() did not consider punctuation as a separate token. <font/> "
   ]
  },
  {
   "cell_type": "markdown",
   "metadata": {
    "id": "3k6lXCc7Wuzi"
   },
   "source": [
    "# <font color='#0abde3'> Regular Expressions (RegEx)  <font/> <br/>\n",
    "Library used: **re** <br/>\n"
   ]
  },
  {
   "cell_type": "code",
   "execution_count": 7,
   "metadata": {
    "id": "9cdy8pDAAqrH"
   },
   "outputs": [],
   "source": [
    "import re"
   ]
  },
  {
   "cell_type": "code",
   "execution_count": 8,
   "metadata": {
    "id": "-yZ5sZgCA6sx"
   },
   "outputs": [],
   "source": [
    "txt = \"odin-dva+tri#chetyre pyat _ 6'\" "
   ]
  },
  {
   "cell_type": "code",
   "execution_count": 9,
   "metadata": {
    "id": "ksM_0kedBLBb"
   },
   "outputs": [
    {
     "data": {
      "text/plain": [
       "['odin', 'dva', 'tri', 'chetyre', 'pyat', '_', '6', '']"
      ]
     },
     "execution_count": 9,
     "metadata": {},
     "output_type": "execute_result"
    }
   ],
   "source": [
    "result = re.split('\\W+', txt)\n",
    "result"
   ]
  },
  {
   "cell_type": "markdown",
   "metadata": {
    "id": "wqxx6J7fLIzl"
   },
   "source": [
    "ReGex method to replace strings: <font color= #fd79a8 > re.split() <font/> "
   ]
  },
  {
   "cell_type": "markdown",
   "metadata": {
    "id": "0n9YN5fbo2Kr"
   },
   "source": [
    "<font color='#0abde3'> w+ example </font> <br/>\n",
    "**'+'** means any number of times - keep searching <br/> \n",
    "The **“\\w”** represents “any word character” which usually means alphanumeric (letters, numbers) and underscore (_).  <br/> [\\w’]+ signals that the code should find all the alphanumeric characters  <font/>\n",
    "<font color='#0abde3'> <br/> Regular expressions use the backslash character \\ to indicate special forms;\n"
   ]
  },
  {
   "cell_type": "markdown",
   "metadata": {
    "id": "6XmgVU80jqZW"
   },
   "source": [
    "<font color= #fd79a8 > Enclose a string with [ ] to match any single character in it. It can be used to split by multiple different characters. <font/> "
   ]
  },
  {
   "cell_type": "code",
   "execution_count": 10,
   "metadata": {
    "id": "Iy5Y2_huCoSu"
   },
   "outputs": [],
   "source": [
    "num = 'one-two-three-#four'"
   ]
  },
  {
   "cell_type": "code",
   "execution_count": 11,
   "metadata": {
    "id": "OTYpItgmCvtE"
   },
   "outputs": [
    {
     "data": {
      "text/plain": [
       "['one', 'two', 'three', '', 'four']"
      ]
     },
     "execution_count": 11,
     "metadata": {},
     "output_type": "execute_result"
    }
   ],
   "source": [
    "result = re.split('[-+#]', num)\n",
    "result"
   ]
  },
  {
   "cell_type": "markdown",
   "metadata": {
    "id": "Y-QlPsHF-1F6"
   },
   "source": [
    "# <font color= #fd79a8 > ReGex method to replace strings: re.sub() <font/> \n",
    "\n"
   ]
  },
  {
   "cell_type": "code",
   "execution_count": 12,
   "metadata": {
    "id": "6prLy0JI-yAH"
   },
   "outputs": [],
   "source": [
    "string = 'one and two and three'"
   ]
  },
  {
   "cell_type": "code",
   "execution_count": 13,
   "metadata": {},
   "outputs": [
    {
     "data": {
      "text/plain": [
       "'one-and-two-and-three'"
      ]
     },
     "execution_count": 13,
     "metadata": {},
     "output_type": "execute_result"
    }
   ],
   "source": [
    "result = re.sub(' ','-',string)\n",
    "result"
   ]
  },
  {
   "cell_type": "markdown",
   "metadata": {
    "id": "4OrO-6rNLLbl"
   },
   "source": [
    "# <font color='#1dd1a1'> ReGex method to search strings:  re.search() <font/><br/> The search() function takes the \"pattern\" and \"string\" to scan from the text input"
   ]
  },
  {
   "cell_type": "code",
   "execution_count": 14,
   "metadata": {
    "id": "iq_-UOf0IhZr"
   },
   "outputs": [
    {
     "name": "stdout",
     "output_type": "stream",
     "text": [
      "Looking for \"nlp engeneer\" in \"the best nlp engeneer ever\": \n",
      " wow cool, your search is successfull!\n",
      "\n",
      "Looking for \"research\" in \"the best nlp engeneer ever\": \n",
      " oh no, we didn\"t find anything\n"
     ]
    }
   ],
   "source": [
    "patternwanted = ['nlp engeneer', 'research']\n",
    "goal = 'the best nlp engeneer ever'\n",
    "for pattern in patternwanted:\n",
    "  print('Looking for \"%s\" in \"%s\": \\n' % (pattern, goal),  end= ' ' )\n",
    "  if re.search(pattern, goal):\n",
    "    print('wow cool, your search is successfull!\\n')\n",
    "  else: \n",
    "    print('oh no, we didn\"t find anything')"
   ]
  },
  {
   "cell_type": "markdown",
   "metadata": {
    "id": "uK0TfZP5Bq0W"
   },
   "source": [
    "# <font color= #0abde3 > ReGex Information Extraction Example using re.findall  </font> <br/> \n",
    "search() module will only return the first occurrence that matches the specified pattern. <br/>findall() will iterate over all the lines of the file and return all the matches. <br/>\n"
   ]
  },
  {
   "cell_type": "code",
   "execution_count": 15,
   "metadata": {
    "id": "GDqgwP0tLPUk"
   },
   "outputs": [
    {
     "name": "stdout",
     "output_type": "stream",
     "text": [
      "aliya_manat@gmail.com\n",
      "kanat7788@mail.ru\n",
      "sanat_t@hotmail.com\n"
     ]
    }
   ],
   "source": [
    "contact_details = \"Aliya Manat aliya_manat@gmail.com 1980 Almaty Kanat Erasyl kanat7788@mail.ru 1974 Sanat Talgat sanat_t@hotmail.com 1995\"\n",
    "emailinfo = re.findall(r'[\\w\\.-]+@[\\w\\.-]+', contact_details)\n",
    "for email in emailinfo:\n",
    "  print(email)\n",
    "\n"
   ]
  },
  {
   "cell_type": "markdown",
   "metadata": {
    "id": "cLRwXGgcHTdA"
   },
   "source": [
    "<font color='#0abde3'> Regular expressions use the backslash character \\ to indicate special forms; but backslashes are not handled in any special way in a string literal prefixed with 'r'"
   ]
  }
 ],
 "metadata": {
  "colab": {
   "name": "Codealong_ReGex.ipynb",
   "provenance": []
  },
  "kernelspec": {
   "display_name": "Python 3",
   "language": "python",
   "name": "python3"
  },
  "language_info": {
   "codemirror_mode": {
    "name": "ipython",
    "version": 3
   },
   "file_extension": ".py",
   "mimetype": "text/x-python",
   "name": "python",
   "nbconvert_exporter": "python",
   "pygments_lexer": "ipython3",
   "version": "3.7.6"
  }
 },
 "nbformat": 4,
 "nbformat_minor": 1
}
